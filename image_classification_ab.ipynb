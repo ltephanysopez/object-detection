{
  "nbformat": 4,
  "nbformat_minor": 0,
  "metadata": {
    "accelerator": "GPU",
    "colab": {
      "name": "image-classification-ab.ipynb",
      "provenance": [],
      "machine_shape": "hm",
      "mount_file_id": "11TmShbNA1pnYaoXOO55vAW7RNxJAFefI",
      "authorship_tag": "ABX9TyPqmHQu+bRzK1H9Sd4jwo68"
    },
    "kernelspec": {
      "display_name": "Python 3",
      "name": "python3"
    },
    "language_info": {
      "name": "python"
    }
  },
  "cells": [
    {
      "cell_type": "code",
      "metadata": {
        "id": "QLzRFSsOw9H0"
      },
      "source": [
        "import tensorflow as tf\n",
        "from tensorflow.keras import layers\n",
        "from tensorflow.keras.callbacks import EarlyStopping\n",
        "import pathlib\n",
        "import matplotlib.pyplot as plt\n",
        "import numpy as np\n",
        "from zipfile import ZipFile\n",
        "import os\n",
        "import gdown\n",
        "from pathlib import Path\n",
        "\n"
      ],
      "execution_count": null,
      "outputs": []
    },
    {
      "cell_type": "code",
      "metadata": {
        "id": "yRpohRrezj9E"
      },
      "source": [
        "os.makedirs(\"asl\")"
      ],
      "execution_count": null,
      "outputs": []
    },
    {
      "cell_type": "code",
      "metadata": {
        "id": "VxmwcDFMzix2"
      },
      "source": [
        "with ZipFile(\"/content/drive/MyDrive/ZipFiles/cosine-ab-v6.zip\", \"r\") as zipobj:\n",
        "    zipobj.extractall(\"asl\")"
      ],
      "execution_count": null,
      "outputs": []
    },
    {
      "cell_type": "code",
      "metadata": {
        "id": "4yRy4pMrzk8J"
      },
      "source": [
        "data_dir = '/content/asl'"
      ],
      "execution_count": null,
      "outputs": []
    },
    {
      "cell_type": "code",
      "metadata": {
        "colab": {
          "base_uri": "https://localhost:8080/"
        },
        "id": "GS2rI6AmznqO",
        "outputId": "14687bb9-3c16-4c69-ddb3-c1da86024ac7"
      },
      "source": [
        "train_ds = tf.keras.preprocessing.image_dataset_from_directory(\n",
        "    data_dir,\n",
        "    validation_split = 0.2,\n",
        "    subset = \"training\",\n",
        "    seed=123,\n",
        "    image_size=(256, 256),\n",
        "    batch_size=64\n",
        "    )\n",
        "\n",
        "val_ds = tf.keras.preprocessing.image_dataset_from_directory(\n",
        "    data_dir,\n",
        "    validation_split=0.2,\n",
        "    subset=\"validation\",\n",
        "    seed=123,\n",
        "    image_size=(256,256),\n",
        "    batch_size=64\n",
        "    )\n",
        "\n",
        "input_shape = (64, 256, 256, 1)\n",
        "class_names = train_ds.class_names\n",
        "print(class_names)\n"
      ],
      "execution_count": null,
      "outputs": [
        {
          "output_type": "stream",
          "name": "stdout",
          "text": [
            "Found 2146 files belonging to 2 classes.\n",
            "Using 1717 files for training.\n",
            "Found 2146 files belonging to 2 classes.\n",
            "Using 429 files for validation.\n",
            "['a', 'b']\n"
          ]
        }
      ]
    },
    {
      "cell_type": "code",
      "metadata": {
        "id": "hmVjz13-zq3V"
      },
      "source": [
        "AUTOTUNE = tf.data.experimental.AUTOTUNE\n",
        "train_ds = train_ds.cache().prefetch(buffer_size=AUTOTUNE)\n",
        "val_ds = val_ds.cache().prefetch(buffer_size=AUTOTUNE)\n",
        "\n",
        "model = tf.keras.Sequential([\n",
        "    layers.experimental.preprocessing.Rescaling(1./255),\n",
        "    layers.Conv2D(64, 3, padding=\"same\", activation='relu', input_shape=input_shape),\n",
        "    layers.MaxPooling2D(),\n",
        "    layers.Dropout(0.2),\n",
        "    layers.Conv2D(64, 3, padding=\"same\", activation='relu'),\n",
        "    layers.MaxPooling2D(),\n",
        "    layers.Dropout(0.2),\n",
        "    layers.Conv2D(64, 3, padding=\"same\", activation='relu'),\n",
        "    layers.MaxPooling2D(),\n",
        "    layers.Dropout(0.2),\n",
        "    layers.Conv2D(32, 3, padding=\"same\", activation='relu'),\n",
        "    layers.MaxPooling2D(),\n",
        "    layers.Dropout(0.2),\n",
        "    layers.Conv2D(32, 3, padding=\"same\", activation='relu'),\n",
        "    layers.MaxPooling2D(),\n",
        "    layers.Dropout(0.2),\n",
        "    layers.Conv2D(32, 3, padding=\"same\", activation='relu'),\n",
        "    layers.MaxPooling2D(),\n",
        "    layers.Dropout(0.2),\n",
        "    layers.Conv2D(32, 3, padding=\"same\", activation='relu'),\n",
        "    layers.MaxPooling2D(),\n",
        "    layers.Dropout(0.2),\n",
        "    layers.Flatten(),\n",
        "    layers.Dense(256, activation='relu'),\n",
        "    layers.Dense(128, activation='relu'),\n",
        "    layers.Dense(64, activation='relu'),\n",
        "    layers.Dense(16, activation='relu'),\n",
        "    layers.Dense(2)\n",
        "    ])\n",
        "    \n"
      ],
      "execution_count": null,
      "outputs": []
    },
    {
      "cell_type": "code",
      "metadata": {
        "colab": {
          "base_uri": "https://localhost:8080/",
          "height": 1000
        },
        "id": "nOM88h9J7IPf",
        "outputId": "56ebf0a7-6f08-4e3b-b94c-9fe4c0fb286d"
      },
      "source": [
        "model.compile(optimizer='adam',loss=tf.losses.SparseCategoricalCrossentropy(from_logits=True), metrics=['accuracy'])\n",
        "history = model.fit(train_ds, validation_data=val_ds, epochs=100)\n",
        "y_vloss = history.history['val_loss']\n",
        "y_loss = history.history['loss']\n",
        "y_acc = history.history['accuracy']\n",
        "y_vacc = history.history['val_accuracy']\n",
        "\n",
        "fig, (ax1, ax2) = plt.subplots(1,2)\n",
        "ax1.plot(np.arange(len(y_vloss)), y_vloss, marker='.', c='red')\n",
        "ax1.plot(np.arange(len(y_loss)), y_loss, marker='.', c='blue')\n",
        "ax1.grid()\n",
        "plt.setp(ax1, xlabel='epoch', ylabel='loss')\n",
        "\n",
        "ax2.plot(np.arange(len(y_vacc)), y_vacc, marker='.', c='red')\n",
        "ax2.plot(np.arange(len(y_acc)), y_acc, marker='.', c='blue')\n",
        "ax2.grid()\n",
        "plt.setp(ax2, xlabel='epoch', ylabel='accuracy')\n",
        "\n",
        "plt.show()"
      ],
      "execution_count": null,
      "outputs": [
        {
          "output_type": "stream",
          "name": "stdout",
          "text": [
            "Epoch 1/100\n",
            "27/27 [==============================] - 29s 356ms/step - loss: 0.6950 - accuracy: 0.4997 - val_loss: 0.6928 - val_accuracy: 0.5315\n",
            "Epoch 2/100\n",
            "27/27 [==============================] - 3s 101ms/step - loss: 0.6934 - accuracy: 0.4997 - val_loss: 0.6920 - val_accuracy: 0.5315\n",
            "Epoch 3/100\n",
            "27/27 [==============================] - 3s 101ms/step - loss: 0.6929 - accuracy: 0.5178 - val_loss: 0.6920 - val_accuracy: 0.5315\n",
            "Epoch 4/100\n",
            "27/27 [==============================] - 3s 101ms/step - loss: 0.6926 - accuracy: 0.5178 - val_loss: 0.6919 - val_accuracy: 0.5315\n",
            "Epoch 5/100\n",
            "27/27 [==============================] - 3s 101ms/step - loss: 0.6913 - accuracy: 0.5178 - val_loss: 0.6929 - val_accuracy: 0.5315\n",
            "Epoch 6/100\n",
            "27/27 [==============================] - 3s 102ms/step - loss: 0.6943 - accuracy: 0.5125 - val_loss: 0.6923 - val_accuracy: 0.5315\n",
            "Epoch 7/100\n",
            "27/27 [==============================] - 3s 101ms/step - loss: 0.6930 - accuracy: 0.5178 - val_loss: 0.6917 - val_accuracy: 0.5315\n",
            "Epoch 8/100\n",
            "27/27 [==============================] - 3s 101ms/step - loss: 0.6927 - accuracy: 0.5178 - val_loss: 0.6917 - val_accuracy: 0.5315\n",
            "Epoch 9/100\n",
            "27/27 [==============================] - 3s 101ms/step - loss: 0.6927 - accuracy: 0.5178 - val_loss: 0.6917 - val_accuracy: 0.5315\n",
            "Epoch 10/100\n",
            "27/27 [==============================] - 3s 101ms/step - loss: 0.6926 - accuracy: 0.5178 - val_loss: 0.6917 - val_accuracy: 0.5315\n",
            "Epoch 11/100\n",
            "27/27 [==============================] - 3s 101ms/step - loss: 0.6928 - accuracy: 0.5195 - val_loss: 0.6920 - val_accuracy: 0.5315\n",
            "Epoch 12/100\n",
            "27/27 [==============================] - 3s 101ms/step - loss: 0.6928 - accuracy: 0.5178 - val_loss: 0.6917 - val_accuracy: 0.5315\n",
            "Epoch 13/100\n",
            "27/27 [==============================] - 3s 101ms/step - loss: 0.6927 - accuracy: 0.5178 - val_loss: 0.6916 - val_accuracy: 0.5315\n",
            "Epoch 14/100\n",
            "27/27 [==============================] - 3s 101ms/step - loss: 0.6926 - accuracy: 0.5178 - val_loss: 0.6917 - val_accuracy: 0.5315\n",
            "Epoch 15/100\n",
            "27/27 [==============================] - 3s 101ms/step - loss: 0.6926 - accuracy: 0.5178 - val_loss: 0.6916 - val_accuracy: 0.5315\n",
            "Epoch 16/100\n",
            "27/27 [==============================] - 3s 101ms/step - loss: 0.6926 - accuracy: 0.5178 - val_loss: 0.6916 - val_accuracy: 0.5315\n",
            "Epoch 17/100\n",
            "27/27 [==============================] - 3s 100ms/step - loss: 0.6925 - accuracy: 0.5050 - val_loss: 0.6915 - val_accuracy: 0.5315\n",
            "Epoch 18/100\n",
            "27/27 [==============================] - 3s 101ms/step - loss: 0.6930 - accuracy: 0.5172 - val_loss: 0.6916 - val_accuracy: 0.5315\n",
            "Epoch 19/100\n",
            "27/27 [==============================] - 3s 100ms/step - loss: 0.6926 - accuracy: 0.5178 - val_loss: 0.6917 - val_accuracy: 0.5315\n",
            "Epoch 20/100\n",
            "27/27 [==============================] - 3s 100ms/step - loss: 0.6927 - accuracy: 0.5178 - val_loss: 0.6917 - val_accuracy: 0.5315\n",
            "Epoch 21/100\n",
            "27/27 [==============================] - 3s 99ms/step - loss: 0.6926 - accuracy: 0.5178 - val_loss: 0.6916 - val_accuracy: 0.5315\n",
            "Epoch 22/100\n",
            "27/27 [==============================] - 3s 99ms/step - loss: 0.6926 - accuracy: 0.5178 - val_loss: 0.6916 - val_accuracy: 0.5315\n",
            "Epoch 23/100\n",
            "27/27 [==============================] - 3s 99ms/step - loss: 0.6926 - accuracy: 0.5178 - val_loss: 0.6916 - val_accuracy: 0.5315\n",
            "Epoch 24/100\n",
            "27/27 [==============================] - 3s 100ms/step - loss: 0.6926 - accuracy: 0.5178 - val_loss: 0.6916 - val_accuracy: 0.5315\n",
            "Epoch 25/100\n",
            "27/27 [==============================] - 3s 101ms/step - loss: 0.6927 - accuracy: 0.5178 - val_loss: 0.6916 - val_accuracy: 0.5315\n",
            "Epoch 26/100\n",
            "27/27 [==============================] - 3s 101ms/step - loss: 0.6925 - accuracy: 0.5178 - val_loss: 0.6916 - val_accuracy: 0.5315\n",
            "Epoch 27/100\n",
            "27/27 [==============================] - 3s 101ms/step - loss: 0.6921 - accuracy: 0.5189 - val_loss: 0.6901 - val_accuracy: 0.5315\n",
            "Epoch 28/100\n",
            "27/27 [==============================] - 3s 101ms/step - loss: 0.6926 - accuracy: 0.5189 - val_loss: 0.6911 - val_accuracy: 0.5315\n",
            "Epoch 29/100\n",
            "27/27 [==============================] - 3s 100ms/step - loss: 0.6905 - accuracy: 0.5224 - val_loss: 0.6936 - val_accuracy: 0.4685\n",
            "Epoch 30/100\n",
            "27/27 [==============================] - 3s 100ms/step - loss: 0.6940 - accuracy: 0.4985 - val_loss: 0.6918 - val_accuracy: 0.5315\n",
            "Epoch 31/100\n",
            "27/27 [==============================] - 3s 101ms/step - loss: 0.6927 - accuracy: 0.5178 - val_loss: 0.6917 - val_accuracy: 0.5315\n",
            "Epoch 32/100\n",
            "27/27 [==============================] - 3s 101ms/step - loss: 0.6926 - accuracy: 0.5178 - val_loss: 0.6916 - val_accuracy: 0.5315\n",
            "Epoch 33/100\n",
            "27/27 [==============================] - 3s 101ms/step - loss: 0.6926 - accuracy: 0.5178 - val_loss: 0.6916 - val_accuracy: 0.5315\n",
            "Epoch 34/100\n",
            "27/27 [==============================] - 3s 101ms/step - loss: 0.6921 - accuracy: 0.5224 - val_loss: 0.6936 - val_accuracy: 0.4685\n",
            "Epoch 35/100\n",
            "27/27 [==============================] - 3s 101ms/step - loss: 0.6935 - accuracy: 0.5114 - val_loss: 0.6908 - val_accuracy: 0.5315\n",
            "Epoch 36/100\n",
            "27/27 [==============================] - 3s 101ms/step - loss: 0.6919 - accuracy: 0.5178 - val_loss: 0.6892 - val_accuracy: 0.5315\n",
            "Epoch 37/100\n",
            "27/27 [==============================] - 3s 100ms/step - loss: 0.6904 - accuracy: 0.5178 - val_loss: 0.6852 - val_accuracy: 0.5315\n",
            "Epoch 38/100\n",
            "27/27 [==============================] - 3s 101ms/step - loss: 0.6881 - accuracy: 0.5178 - val_loss: 0.6903 - val_accuracy: 0.5315\n",
            "Epoch 39/100\n",
            "27/27 [==============================] - 3s 101ms/step - loss: 0.6892 - accuracy: 0.5178 - val_loss: 0.6676 - val_accuracy: 0.5315\n",
            "Epoch 40/100\n",
            "27/27 [==============================] - 3s 101ms/step - loss: 0.6884 - accuracy: 0.5178 - val_loss: 0.6838 - val_accuracy: 0.5315\n",
            "Epoch 41/100\n",
            "27/27 [==============================] - 3s 100ms/step - loss: 0.6855 - accuracy: 0.5475 - val_loss: 0.6749 - val_accuracy: 0.6410\n",
            "Epoch 42/100\n",
            "27/27 [==============================] - 3s 101ms/step - loss: 0.6811 - accuracy: 0.5422 - val_loss: 0.6676 - val_accuracy: 0.6154\n",
            "Epoch 43/100\n",
            "27/27 [==============================] - 3s 101ms/step - loss: 0.6769 - accuracy: 0.5673 - val_loss: 0.6713 - val_accuracy: 0.5688\n",
            "Epoch 44/100\n",
            "27/27 [==============================] - 3s 101ms/step - loss: 0.6761 - accuracy: 0.5929 - val_loss: 0.6666 - val_accuracy: 0.5758\n",
            "Epoch 45/100\n",
            "27/27 [==============================] - 3s 101ms/step - loss: 0.6582 - accuracy: 0.6022 - val_loss: 0.6361 - val_accuracy: 0.6247\n",
            "Epoch 46/100\n",
            "27/27 [==============================] - 3s 101ms/step - loss: 0.6395 - accuracy: 0.6209 - val_loss: 0.6199 - val_accuracy: 0.6154\n",
            "Epoch 47/100\n",
            "27/27 [==============================] - 3s 100ms/step - loss: 0.6579 - accuracy: 0.5929 - val_loss: 0.6308 - val_accuracy: 0.6154\n",
            "Epoch 48/100\n",
            "27/27 [==============================] - 3s 99ms/step - loss: 0.6177 - accuracy: 0.6436 - val_loss: 0.5699 - val_accuracy: 0.6713\n",
            "Epoch 49/100\n",
            "27/27 [==============================] - 3s 99ms/step - loss: 0.6056 - accuracy: 0.6540 - val_loss: 0.5742 - val_accuracy: 0.6923\n",
            "Epoch 50/100\n",
            "27/27 [==============================] - 3s 99ms/step - loss: 0.5879 - accuracy: 0.6709 - val_loss: 0.5602 - val_accuracy: 0.6946\n",
            "Epoch 51/100\n",
            "27/27 [==============================] - 3s 99ms/step - loss: 0.5872 - accuracy: 0.6616 - val_loss: 0.5561 - val_accuracy: 0.6760\n",
            "Epoch 52/100\n",
            "27/27 [==============================] - 3s 101ms/step - loss: 0.5538 - accuracy: 0.7065 - val_loss: 0.5186 - val_accuracy: 0.7552\n",
            "Epoch 53/100\n",
            "27/27 [==============================] - 3s 100ms/step - loss: 0.5278 - accuracy: 0.7402 - val_loss: 0.4962 - val_accuracy: 0.7832\n",
            "Epoch 54/100\n",
            "27/27 [==============================] - 3s 101ms/step - loss: 0.4527 - accuracy: 0.7665 - val_loss: 0.4017 - val_accuracy: 0.8322\n",
            "Epoch 55/100\n",
            "27/27 [==============================] - 3s 101ms/step - loss: 0.4367 - accuracy: 0.7694 - val_loss: 0.3945 - val_accuracy: 0.8135\n",
            "Epoch 56/100\n",
            "27/27 [==============================] - 3s 100ms/step - loss: 0.3886 - accuracy: 0.8043 - val_loss: 0.3493 - val_accuracy: 0.8671\n",
            "Epoch 57/100\n",
            "27/27 [==============================] - 3s 99ms/step - loss: 0.3523 - accuracy: 0.8247 - val_loss: 0.3639 - val_accuracy: 0.8368\n",
            "Epoch 58/100\n",
            "27/27 [==============================] - 3s 101ms/step - loss: 0.3149 - accuracy: 0.8433 - val_loss: 0.3256 - val_accuracy: 0.8718\n",
            "Epoch 59/100\n",
            "27/27 [==============================] - 3s 101ms/step - loss: 0.3146 - accuracy: 0.8340 - val_loss: 0.2922 - val_accuracy: 0.8858\n",
            "Epoch 60/100\n",
            "27/27 [==============================] - 3s 101ms/step - loss: 0.2783 - accuracy: 0.8690 - val_loss: 0.2472 - val_accuracy: 0.8998\n",
            "Epoch 61/100\n",
            "27/27 [==============================] - 3s 101ms/step - loss: 0.2427 - accuracy: 0.8899 - val_loss: 0.2107 - val_accuracy: 0.9114\n",
            "Epoch 62/100\n",
            "27/27 [==============================] - 3s 101ms/step - loss: 0.2365 - accuracy: 0.8858 - val_loss: 0.3095 - val_accuracy: 0.8671\n",
            "Epoch 63/100\n",
            "27/27 [==============================] - 3s 101ms/step - loss: 0.2343 - accuracy: 0.8928 - val_loss: 0.2273 - val_accuracy: 0.9254\n",
            "Epoch 64/100\n",
            "27/27 [==============================] - 3s 101ms/step - loss: 0.2122 - accuracy: 0.9010 - val_loss: 0.1815 - val_accuracy: 0.9324\n",
            "Epoch 65/100\n",
            "27/27 [==============================] - 3s 101ms/step - loss: 0.2002 - accuracy: 0.9156 - val_loss: 0.1763 - val_accuracy: 0.9441\n",
            "Epoch 66/100\n",
            "27/27 [==============================] - 3s 101ms/step - loss: 0.2071 - accuracy: 0.9091 - val_loss: 0.1592 - val_accuracy: 0.9441\n",
            "Epoch 67/100\n",
            "27/27 [==============================] - 3s 101ms/step - loss: 0.1814 - accuracy: 0.9202 - val_loss: 0.1656 - val_accuracy: 0.9417\n",
            "Epoch 68/100\n",
            "27/27 [==============================] - 3s 101ms/step - loss: 0.1827 - accuracy: 0.9249 - val_loss: 0.1792 - val_accuracy: 0.9464\n",
            "Epoch 69/100\n",
            "27/27 [==============================] - 3s 101ms/step - loss: 0.1732 - accuracy: 0.9196 - val_loss: 0.1059 - val_accuracy: 0.9767\n",
            "Epoch 70/100\n",
            "27/27 [==============================] - 3s 100ms/step - loss: 0.1730 - accuracy: 0.9313 - val_loss: 0.1336 - val_accuracy: 0.9697\n",
            "Epoch 71/100\n",
            "27/27 [==============================] - 3s 101ms/step - loss: 0.1427 - accuracy: 0.9429 - val_loss: 0.1188 - val_accuracy: 0.9674\n",
            "Epoch 72/100\n",
            "27/27 [==============================] - 3s 101ms/step - loss: 0.1577 - accuracy: 0.9336 - val_loss: 0.1154 - val_accuracy: 0.9767\n",
            "Epoch 73/100\n",
            "27/27 [==============================] - 3s 101ms/step - loss: 0.1212 - accuracy: 0.9569 - val_loss: 0.0989 - val_accuracy: 0.9790\n",
            "Epoch 74/100\n",
            "27/27 [==============================] - 3s 101ms/step - loss: 0.1270 - accuracy: 0.9464 - val_loss: 0.1302 - val_accuracy: 0.9674\n",
            "Epoch 75/100\n",
            "27/27 [==============================] - 3s 101ms/step - loss: 0.1319 - accuracy: 0.9447 - val_loss: 0.0855 - val_accuracy: 0.9767\n",
            "Epoch 76/100\n",
            "27/27 [==============================] - 3s 99ms/step - loss: 0.1264 - accuracy: 0.9511 - val_loss: 0.1336 - val_accuracy: 0.9487\n",
            "Epoch 77/100\n",
            "27/27 [==============================] - 3s 99ms/step - loss: 0.1437 - accuracy: 0.9447 - val_loss: 0.1022 - val_accuracy: 0.9790\n",
            "Epoch 78/100\n",
            "27/27 [==============================] - 3s 99ms/step - loss: 0.1251 - accuracy: 0.9482 - val_loss: 0.1068 - val_accuracy: 0.9814\n",
            "Epoch 79/100\n",
            "27/27 [==============================] - 3s 100ms/step - loss: 0.1150 - accuracy: 0.9522 - val_loss: 0.0780 - val_accuracy: 0.9814\n",
            "Epoch 80/100\n",
            "27/27 [==============================] - 3s 101ms/step - loss: 0.1264 - accuracy: 0.9505 - val_loss: 0.0849 - val_accuracy: 0.9860\n",
            "Epoch 81/100\n",
            "27/27 [==============================] - 3s 101ms/step - loss: 0.1034 - accuracy: 0.9604 - val_loss: 0.0733 - val_accuracy: 0.9814\n",
            "Epoch 82/100\n",
            "27/27 [==============================] - 3s 101ms/step - loss: 0.1122 - accuracy: 0.9552 - val_loss: 0.0782 - val_accuracy: 0.9767\n",
            "Epoch 83/100\n",
            "27/27 [==============================] - 3s 101ms/step - loss: 0.0988 - accuracy: 0.9633 - val_loss: 0.0805 - val_accuracy: 0.9744\n",
            "Epoch 84/100\n",
            "27/27 [==============================] - 3s 100ms/step - loss: 0.0859 - accuracy: 0.9633 - val_loss: 0.0663 - val_accuracy: 0.9767\n",
            "Epoch 85/100\n",
            "27/27 [==============================] - 3s 100ms/step - loss: 0.1062 - accuracy: 0.9557 - val_loss: 0.1024 - val_accuracy: 0.9697\n",
            "Epoch 86/100\n",
            "27/27 [==============================] - 3s 101ms/step - loss: 0.0995 - accuracy: 0.9604 - val_loss: 0.0882 - val_accuracy: 0.9720\n",
            "Epoch 87/100\n",
            "27/27 [==============================] - 3s 101ms/step - loss: 0.1038 - accuracy: 0.9581 - val_loss: 0.0707 - val_accuracy: 0.9790\n",
            "Epoch 88/100\n",
            "27/27 [==============================] - 3s 101ms/step - loss: 0.0862 - accuracy: 0.9656 - val_loss: 0.0626 - val_accuracy: 0.9767\n",
            "Epoch 89/100\n",
            "27/27 [==============================] - 3s 101ms/step - loss: 0.0804 - accuracy: 0.9639 - val_loss: 0.0635 - val_accuracy: 0.9744\n",
            "Epoch 90/100\n",
            "27/27 [==============================] - 3s 101ms/step - loss: 0.1065 - accuracy: 0.9540 - val_loss: 0.1282 - val_accuracy: 0.9604\n",
            "Epoch 91/100\n",
            "27/27 [==============================] - 3s 101ms/step - loss: 0.0933 - accuracy: 0.9656 - val_loss: 0.0579 - val_accuracy: 0.9767\n",
            "Epoch 92/100\n",
            "27/27 [==============================] - 3s 100ms/step - loss: 0.0826 - accuracy: 0.9639 - val_loss: 0.0812 - val_accuracy: 0.9720\n",
            "Epoch 93/100\n",
            "27/27 [==============================] - 3s 101ms/step - loss: 0.0814 - accuracy: 0.9680 - val_loss: 0.0499 - val_accuracy: 0.9837\n",
            "Epoch 94/100\n",
            "27/27 [==============================] - 3s 101ms/step - loss: 0.0746 - accuracy: 0.9691 - val_loss: 0.0578 - val_accuracy: 0.9790\n",
            "Epoch 95/100\n",
            "27/27 [==============================] - 3s 101ms/step - loss: 0.0710 - accuracy: 0.9691 - val_loss: 0.0578 - val_accuracy: 0.9767\n",
            "Epoch 96/100\n",
            "27/27 [==============================] - 3s 101ms/step - loss: 0.0830 - accuracy: 0.9662 - val_loss: 0.0860 - val_accuracy: 0.9697\n",
            "Epoch 97/100\n",
            "27/27 [==============================] - 3s 101ms/step - loss: 0.0718 - accuracy: 0.9738 - val_loss: 0.0670 - val_accuracy: 0.9814\n",
            "Epoch 98/100\n",
            "27/27 [==============================] - 3s 101ms/step - loss: 0.0801 - accuracy: 0.9715 - val_loss: 0.0859 - val_accuracy: 0.9720\n",
            "Epoch 99/100\n",
            "27/27 [==============================] - 3s 101ms/step - loss: 0.0759 - accuracy: 0.9720 - val_loss: 0.0620 - val_accuracy: 0.9767\n",
            "Epoch 100/100\n",
            "27/27 [==============================] - 3s 100ms/step - loss: 0.0537 - accuracy: 0.9790 - val_loss: 0.0741 - val_accuracy: 0.9674\n"
          ]
        },
        {
          "output_type": "display_data",
          "data": {
            "image/png": "[encoded data removed]",
            "text/plain": [
              "<Figure size 432x288 with 2 Axes>"
            ]
          },
          "metadata": {
            "needs_background": "light"
          }
        }
      ]
    },
    {
      "cell_type": "code",
      "metadata": {
        "colab": {
          "base_uri": "https://localhost:8080/"
        },
        "id": "1b9_KyDy4pO9",
        "outputId": "7df5cee1-5b73-486a-9c93-a1ea26c7f8d4"
      },
      "source": [
        "model.summary()"
      ],
      "execution_count": null,
      "outputs": [
        {
          "output_type": "stream",
          "name": "stdout",
          "text": [
            "Model: \"sequential\"\n",
            "_________________________________________________________________\n",
            " Layer (type)                Output Shape              Param #   \n",
            "=================================================================\n",
            " rescaling (Rescaling)       (None, 256, 256, 3)       0         \n",
            "                                                                 \n",
            " conv2d (Conv2D)             (None, 256, 256, 64)      1792      \n",
            "                                                                 \n",
            " max_pooling2d (MaxPooling2D  (None, 128, 128, 64)     0         \n",
            " )                                                               \n",
            "                                                                 \n",
            " dropout (Dropout)           (None, 128, 128, 64)      0         \n",
            "                                                                 \n",
            " conv2d_1 (Conv2D)           (None, 128, 128, 64)      36928     \n",
            "                                                                 \n",
            " max_pooling2d_1 (MaxPooling  (None, 64, 64, 64)       0         \n",
            " 2D)                                                             \n",
            "                                                                 \n",
            " dropout_1 (Dropout)         (None, 64, 64, 64)        0         \n",
            "                                                                 \n",
            " conv2d_2 (Conv2D)           (None, 64, 64, 64)        36928     \n",
            "                                                                 \n",
            " max_pooling2d_2 (MaxPooling  (None, 32, 32, 64)       0         \n",
            " 2D)                                                             \n",
            "                                                                 \n",
            " dropout_2 (Dropout)         (None, 32, 32, 64)        0         \n",
            "                                                                 \n",
            " conv2d_3 (Conv2D)           (None, 32, 32, 32)        18464     \n",
            "                                                                 \n",
            " max_pooling2d_3 (MaxPooling  (None, 16, 16, 32)       0         \n",
            " 2D)                                                             \n",
            "                                                                 \n",
            " dropout_3 (Dropout)         (None, 16, 16, 32)        0         \n",
            "                                                                 \n",
            " conv2d_4 (Conv2D)           (None, 16, 16, 32)        9248      \n",
            "                                                                 \n",
            " max_pooling2d_4 (MaxPooling  (None, 8, 8, 32)         0         \n",
            " 2D)                                                             \n",
            "                                                                 \n",
            " dropout_4 (Dropout)         (None, 8, 8, 32)          0         \n",
            "                                                                 \n",
            " conv2d_5 (Conv2D)           (None, 8, 8, 32)          9248      \n",
            "                                                                 \n",
            " max_pooling2d_5 (MaxPooling  (None, 4, 4, 32)         0         \n",
            " 2D)                                                             \n",
            "                                                                 \n",
            " dropout_5 (Dropout)         (None, 4, 4, 32)          0         \n",
            "                                                                 \n",
            " conv2d_6 (Conv2D)           (None, 4, 4, 32)          9248      \n",
            "                                                                 \n",
            " max_pooling2d_6 (MaxPooling  (None, 2, 2, 32)         0         \n",
            " 2D)                                                             \n",
            "                                                                 \n",
            " dropout_6 (Dropout)         (None, 2, 2, 32)          0         \n",
            "                                                                 \n",
            " flatten (Flatten)           (None, 128)               0         \n",
            "                                                                 \n",
            " dense (Dense)               (None, 256)               33024     \n",
            "                                                                 \n",
            " dense_1 (Dense)             (None, 128)               32896     \n",
            "                                                                 \n",
            " dense_2 (Dense)             (None, 64)                8256      \n",
            "                                                                 \n",
            " dense_3 (Dense)             (None, 16)                1040      \n",
            "                                                                 \n",
            " dense_4 (Dense)             (None, 2)                 34        \n",
            "                                                                 \n",
            "=================================================================\n",
            "Total params: 197,106\n",
            "Trainable params: 197,106\n",
            "Non-trainable params: 0\n",
            "_________________________________________________________________\n"
          ]
        }
      ]
    },
    {
      "cell_type": "markdown",
      "metadata": {
        "id": "w4EqEQBhPAx9"
      },
      "source": [
        "# Image Prediction"
      ]
    },
    {
      "cell_type": "code",
      "metadata": {
        "id": "EIugfVzkK-o6"
      },
      "source": [
        "from IPython.display import display, Javascript\n",
        "from google.colab.output import eval_js\n",
        "from base64 import b64decode\n",
        "\n",
        "def take_photo(filename='photo.jpg', quality=0.8):\n",
        "  js = Javascript('''\n",
        "    async function takePhoto(quality) {\n",
        "      const div = document.createElement('div');\n",
        "      const capture = document.createElement('button');\n",
        "      capture.textContent = 'Capture';\n",
        "      div.appendChild(capture);\n",
        "\n",
        "      const video = document.createElement('video');\n",
        "      video.style.display = 'block';\n",
        "      const stream = await navigator.mediaDevices.getUserMedia({video: true});\n",
        "\n",
        "      document.body.appendChild(div);\n",
        "      div.appendChild(video);\n",
        "      video.srcObject = stream;\n",
        "      await video.play();\n",
        "\n",
        "      // Resize the output to fit the video element.\n",
        "      google.colab.output.setIframeHeight(document.documentElement.scrollHeight, true);\n",
        "\n",
        "      // Wait for Capture to be clicked.\n",
        "      await new Promise((resolve) => capture.onclick = resolve);\n",
        "\n",
        "      const canvas = document.createElement('canvas');\n",
        "      canvas.width = 500; //video.videoWidth;\n",
        "      canvas.height = 500; //video.videoHeight;\n",
        "      canvas.getContext('2d').drawImage(video, 0, 0);\n",
        "      stream.getVideoTracks()[0].stop();\n",
        "      div.remove();\n",
        "      return canvas.toDataURL('image/jpeg', quality);\n",
        "    }\n",
        "    ''')\n",
        "  display(js)\n",
        "  data = eval_js('takePhoto({})'.format(quality))\n",
        "  binary = b64decode(data.split(',')[1])\n",
        "  with open(filename, 'wb') as f:\n",
        "    f.write(binary)\n",
        "  return filename"
      ],
      "execution_count": null,
      "outputs": []
    },
    {
      "cell_type": "code",
      "metadata": {
        "colab": {
          "base_uri": "https://localhost:8080/",
          "height": 533
        },
        "id": "hsQhEP9dLF3L",
        "outputId": "bd896a69-6b66-4bc4-feec-38b0649ae8c7"
      },
      "source": [
        "from IPython.display import Image\n",
        "try:\n",
        "  filename = take_photo()\n",
        "  print('Saved to {}'.format(filename))\n",
        "  \n",
        "  # Show the image which was just taken.\n",
        "  display(Image(filename))\n",
        "except Exception as err:\n",
        "  # Errors will be thrown if the user does not have a webcam or if they do not\n",
        "  # grant the page permission to access it.\n",
        "  print(str(err))"
      ],
      "execution_count": null,
      "outputs": [
        {
          "output_type": "display_data",
          "data": {
            "application/javascript": [
              "\n",
              "    async function takePhoto(quality) {\n",
              "      const div = document.createElement('div');\n",
              "      const capture = document.createElement('button');\n",
              "      capture.textContent = 'Capture';\n",
              "      div.appendChild(capture);\n",
              "\n",
              "      const video = document.createElement('video');\n",
              "      video.style.display = 'block';\n",
              "      const stream = await navigator.mediaDevices.getUserMedia({video: true});\n",
              "\n",
              "      document.body.appendChild(div);\n",
              "      div.appendChild(video);\n",
              "      video.srcObject = stream;\n",
              "      await video.play();\n",
              "\n",
              "      // Resize the output to fit the video element.\n",
              "      google.colab.output.setIframeHeight(document.documentElement.scrollHeight, true);\n",
              "\n",
              "      // Wait for Capture to be clicked.\n",
              "      await new Promise((resolve) => capture.onclick = resolve);\n",
              "\n",
              "      const canvas = document.createElement('canvas');\n",
              "      canvas.width = 500; //video.videoWidth;\n",
              "      canvas.height = 500; //video.videoHeight;\n",
              "      canvas.getContext('2d').drawImage(video, 0, 0);\n",
              "      stream.getVideoTracks()[0].stop();\n",
              "      div.remove();\n",
              "      return canvas.toDataURL('image/jpeg', quality);\n",
              "    }\n",
              "    "
            ],
            "text/plain": [
              "<IPython.core.display.Javascript object>"
            ]
          },
          "metadata": {}
        },
        {
          "output_type": "stream",
          "name": "stdout",
          "text": [
            "Saved to photo.jpg\n"
          ]
        },
        {
          "output_type": "display_data",
          "data": {
            "image/jpeg": "[encoded data removed]",
            "text/plain": [
              "<IPython.core.display.Image object>"
            ]
          },
          "metadata": {}
        }
      ]
    },
    {
      "cell_type": "code",
      "metadata": {
        "colab": {
          "base_uri": "https://localhost:8080/"
        },
        "id": "CSCDqQS6DveU",
        "outputId": "f3dc4a9b-6061-4949-e70d-952c8d4f124c"
      },
      "source": [
        " testimage_path = \"photo.jpg\"\n",
        "\n",
        "img = tf.keras.utils.load_img(\n",
        "    testimage_path, target_size=(256, 256)\n",
        ")\n",
        "img_array = tf.keras.utils.img_to_array(img)\n",
        "img_array = tf.expand_dims(img_array, 0) # Create a batch\n",
        "\n",
        "predictions = model.predict(img_array)\n",
        "score = tf.nn.softmax(predictions[0])\n",
        "\n",
        "print(\n",
        "    \"This image most likely belongs to {} with a {:.2f} percent confidence.\"\n",
        "    .format(class_names[np.argmax(score)], 100 * np.max(score))\n",
        ")"
      ],
      "execution_count": null,
      "outputs": [
        {
          "output_type": "stream",
          "name": "stdout",
          "text": [
            "This image most likely belongs to b with a 59.50 percent confidence.\n"
          ]
        }
      ]
    },
    {
      "cell_type": "markdown",
      "metadata": {
        "id": "dVNBynS75_22"
      },
      "source": [
        "# Exporting model "
      ]
    },
    {
      "cell_type": "code",
      "metadata": {
        "colab": {
          "base_uri": "https://localhost:8080/"
        },
        "id": "Mh4ceegDlWii",
        "outputId": "4fc06946-5b51-41fa-81f4-0224d640d560"
      },
      "source": [
        "# Save the entire model as a SavedModel.\n",
        "!mkdir -p saved_model\n",
        "model.save('saved_model/my_model') "
      ],
      "execution_count": null,
      "outputs": [
        {
          "output_type": "stream",
          "name": "stdout",
          "text": [
            "INFO:tensorflow:Assets written to: saved_model/my_model/assets\n"
          ]
        }
      ]
    }
  ]
}